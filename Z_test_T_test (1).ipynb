{
  "nbformat": 4,
  "nbformat_minor": 0,
  "metadata": {
    "colab": {
      "provenance": []
    },
    "kernelspec": {
      "name": "python3",
      "display_name": "Python 3"
    },
    "language_info": {
      "name": "python"
    }
  },
  "cells": [
    {
      "cell_type": "code",
      "execution_count": 101,
      "metadata": {
        "id": "rWO_RAEzP_Hy"
      },
      "outputs": [],
      "source": [
        "import pandas as pd\n",
        "import numpy as np\n",
        "import scipy.stats as st"
      ]
    },
    {
      "cell_type": "code",
      "source": [
        "df = pd.read_csv('/content/amazon.csv')"
      ],
      "metadata": {
        "id": "aES_N2G3RGyZ"
      },
      "execution_count": 102,
      "outputs": []
    },
    {
      "cell_type": "code",
      "source": [
        "df['Discounted_Price'] = df['Discounted_Price'].str.strip('₹')"
      ],
      "metadata": {
        "id": "EOTaM55sRMp6"
      },
      "execution_count": 103,
      "outputs": []
    },
    {
      "cell_type": "code",
      "source": [
        "df['Discounted_Price'] = df['Discounted_Price'].str.strip(',')"
      ],
      "metadata": {
        "id": "9qXO__uMVkV_"
      },
      "execution_count": 104,
      "outputs": []
    },
    {
      "cell_type": "code",
      "source": [
        "df['Discounted_Price'] = pd.to_numeric(df['Discounted_Price'],errors='coerce')"
      ],
      "metadata": {
        "id": "GrnEeMMUVWfM"
      },
      "execution_count": 105,
      "outputs": []
    },
    {
      "cell_type": "code",
      "source": [
        "df"
      ],
      "metadata": {
        "colab": {
          "base_uri": "https://localhost:8080/",
          "height": 641
        },
        "id": "VPkFCx4PU9Wc",
        "outputId": "ea2802af-fa1b-4989-ebed-c2e237f91148"
      },
      "execution_count": 106,
      "outputs": [
        {
          "output_type": "execute_result",
          "data": {
            "text/plain": [
              "                                           Product_name               Stars  \\\n",
              "0                    Sorgen Free Size Compression Socks                 NaN   \n",
              "1        Analog Black Dial Unisex-Adult Watch-38024PP25  4.2 out of 5 stars   \n",
              "2     Men's Jewellery 3D Cuboid Vertical Bar/Stick S...  3.7 out of 5 stars   \n",
              "3     Brown Leather Men's Leather Wallet(WH2052 Crac...  4.0 out of 5 stars   \n",
              "4                     Tan Crunch Leather Wallet for Men  4.0 out of 5 stars   \n",
              "...                                                 ...                 ...   \n",
              "2207  Elegant Analogue Round Studded Dial with Stain...  3.9 out of 5 stars   \n",
              "2208  PACK OF 2 Tony Stark Sunglasses Vintage Square...  4.0 out of 5 stars   \n",
              "2209  No. 006 Men's Sports, Walking, Gym, Training, ...  3.1 out of 5 stars   \n",
              "2210  Kpop BTS Band Exquisite Signature Jimin Silico...  4.5 out of 5 stars   \n",
              "2211      Unisex Blue Handcrafted Compact Pocket Wallet                 NaN   \n",
              "\n",
              "       Discount Reviews Count  Discounted_Price Original_Price  \n",
              "0     (24% off)           NaN             840.0         ₹1,100  \n",
              "1           NaN         4,868             850.0            NaN  \n",
              "2     (85% off)            74             149.0           ₹999  \n",
              "3     (83% off)        29,362             255.0         ₹1,499  \n",
              "4     (80% off)        28,489             299.0         ₹1,499  \n",
              "...         ...           ...               ...            ...  \n",
              "2207  (80% off)           222             298.0         ₹1,499  \n",
              "2208  (75% off)           134             499.0         ₹1,999  \n",
              "2209  (73% off)           113             549.0         ₹1,999  \n",
              "2210  (82% off)           455             180.0           ₹995  \n",
              "2211  (27% off)           NaN             399.0           ₹549  \n",
              "\n",
              "[2212 rows x 6 columns]"
            ],
            "text/html": [
              "\n",
              "  <div id=\"df-03b7e726-a428-475a-926d-5765e0e0d330\">\n",
              "    <div class=\"colab-df-container\">\n",
              "      <div>\n",
              "<style scoped>\n",
              "    .dataframe tbody tr th:only-of-type {\n",
              "        vertical-align: middle;\n",
              "    }\n",
              "\n",
              "    .dataframe tbody tr th {\n",
              "        vertical-align: top;\n",
              "    }\n",
              "\n",
              "    .dataframe thead th {\n",
              "        text-align: right;\n",
              "    }\n",
              "</style>\n",
              "<table border=\"1\" class=\"dataframe\">\n",
              "  <thead>\n",
              "    <tr style=\"text-align: right;\">\n",
              "      <th></th>\n",
              "      <th>Product_name</th>\n",
              "      <th>Stars</th>\n",
              "      <th>Discount</th>\n",
              "      <th>Reviews Count</th>\n",
              "      <th>Discounted_Price</th>\n",
              "      <th>Original_Price</th>\n",
              "    </tr>\n",
              "  </thead>\n",
              "  <tbody>\n",
              "    <tr>\n",
              "      <th>0</th>\n",
              "      <td>Sorgen Free Size Compression Socks</td>\n",
              "      <td>NaN</td>\n",
              "      <td>(24% off)</td>\n",
              "      <td>NaN</td>\n",
              "      <td>840.0</td>\n",
              "      <td>₹1,100</td>\n",
              "    </tr>\n",
              "    <tr>\n",
              "      <th>1</th>\n",
              "      <td>Analog Black Dial Unisex-Adult Watch-38024PP25</td>\n",
              "      <td>4.2 out of 5 stars</td>\n",
              "      <td>NaN</td>\n",
              "      <td>4,868</td>\n",
              "      <td>850.0</td>\n",
              "      <td>NaN</td>\n",
              "    </tr>\n",
              "    <tr>\n",
              "      <th>2</th>\n",
              "      <td>Men's Jewellery 3D Cuboid Vertical Bar/Stick S...</td>\n",
              "      <td>3.7 out of 5 stars</td>\n",
              "      <td>(85% off)</td>\n",
              "      <td>74</td>\n",
              "      <td>149.0</td>\n",
              "      <td>₹999</td>\n",
              "    </tr>\n",
              "    <tr>\n",
              "      <th>3</th>\n",
              "      <td>Brown Leather Men's Leather Wallet(WH2052 Crac...</td>\n",
              "      <td>4.0 out of 5 stars</td>\n",
              "      <td>(83% off)</td>\n",
              "      <td>29,362</td>\n",
              "      <td>255.0</td>\n",
              "      <td>₹1,499</td>\n",
              "    </tr>\n",
              "    <tr>\n",
              "      <th>4</th>\n",
              "      <td>Tan Crunch Leather Wallet for Men</td>\n",
              "      <td>4.0 out of 5 stars</td>\n",
              "      <td>(80% off)</td>\n",
              "      <td>28,489</td>\n",
              "      <td>299.0</td>\n",
              "      <td>₹1,499</td>\n",
              "    </tr>\n",
              "    <tr>\n",
              "      <th>...</th>\n",
              "      <td>...</td>\n",
              "      <td>...</td>\n",
              "      <td>...</td>\n",
              "      <td>...</td>\n",
              "      <td>...</td>\n",
              "      <td>...</td>\n",
              "    </tr>\n",
              "    <tr>\n",
              "      <th>2207</th>\n",
              "      <td>Elegant Analogue Round Studded Dial with Stain...</td>\n",
              "      <td>3.9 out of 5 stars</td>\n",
              "      <td>(80% off)</td>\n",
              "      <td>222</td>\n",
              "      <td>298.0</td>\n",
              "      <td>₹1,499</td>\n",
              "    </tr>\n",
              "    <tr>\n",
              "      <th>2208</th>\n",
              "      <td>PACK OF 2 Tony Stark Sunglasses Vintage Square...</td>\n",
              "      <td>4.0 out of 5 stars</td>\n",
              "      <td>(75% off)</td>\n",
              "      <td>134</td>\n",
              "      <td>499.0</td>\n",
              "      <td>₹1,999</td>\n",
              "    </tr>\n",
              "    <tr>\n",
              "      <th>2209</th>\n",
              "      <td>No. 006 Men's Sports, Walking, Gym, Training, ...</td>\n",
              "      <td>3.1 out of 5 stars</td>\n",
              "      <td>(73% off)</td>\n",
              "      <td>113</td>\n",
              "      <td>549.0</td>\n",
              "      <td>₹1,999</td>\n",
              "    </tr>\n",
              "    <tr>\n",
              "      <th>2210</th>\n",
              "      <td>Kpop BTS Band Exquisite Signature Jimin Silico...</td>\n",
              "      <td>4.5 out of 5 stars</td>\n",
              "      <td>(82% off)</td>\n",
              "      <td>455</td>\n",
              "      <td>180.0</td>\n",
              "      <td>₹995</td>\n",
              "    </tr>\n",
              "    <tr>\n",
              "      <th>2211</th>\n",
              "      <td>Unisex Blue Handcrafted Compact Pocket Wallet</td>\n",
              "      <td>NaN</td>\n",
              "      <td>(27% off)</td>\n",
              "      <td>NaN</td>\n",
              "      <td>399.0</td>\n",
              "      <td>₹549</td>\n",
              "    </tr>\n",
              "  </tbody>\n",
              "</table>\n",
              "<p>2212 rows × 6 columns</p>\n",
              "</div>\n",
              "      <button class=\"colab-df-convert\" onclick=\"convertToInteractive('df-03b7e726-a428-475a-926d-5765e0e0d330')\"\n",
              "              title=\"Convert this dataframe to an interactive table.\"\n",
              "              style=\"display:none;\">\n",
              "        \n",
              "  <svg xmlns=\"http://www.w3.org/2000/svg\" height=\"24px\"viewBox=\"0 0 24 24\"\n",
              "       width=\"24px\">\n",
              "    <path d=\"M0 0h24v24H0V0z\" fill=\"none\"/>\n",
              "    <path d=\"M18.56 5.44l.94 2.06.94-2.06 2.06-.94-2.06-.94-.94-2.06-.94 2.06-2.06.94zm-11 1L8.5 8.5l.94-2.06 2.06-.94-2.06-.94L8.5 2.5l-.94 2.06-2.06.94zm10 10l.94 2.06.94-2.06 2.06-.94-2.06-.94-.94-2.06-.94 2.06-2.06.94z\"/><path d=\"M17.41 7.96l-1.37-1.37c-.4-.4-.92-.59-1.43-.59-.52 0-1.04.2-1.43.59L10.3 9.45l-7.72 7.72c-.78.78-.78 2.05 0 2.83L4 21.41c.39.39.9.59 1.41.59.51 0 1.02-.2 1.41-.59l7.78-7.78 2.81-2.81c.8-.78.8-2.07 0-2.86zM5.41 20L4 18.59l7.72-7.72 1.47 1.35L5.41 20z\"/>\n",
              "  </svg>\n",
              "      </button>\n",
              "      \n",
              "  <style>\n",
              "    .colab-df-container {\n",
              "      display:flex;\n",
              "      flex-wrap:wrap;\n",
              "      gap: 12px;\n",
              "    }\n",
              "\n",
              "    .colab-df-convert {\n",
              "      background-color: #E8F0FE;\n",
              "      border: none;\n",
              "      border-radius: 50%;\n",
              "      cursor: pointer;\n",
              "      display: none;\n",
              "      fill: #1967D2;\n",
              "      height: 32px;\n",
              "      padding: 0 0 0 0;\n",
              "      width: 32px;\n",
              "    }\n",
              "\n",
              "    .colab-df-convert:hover {\n",
              "      background-color: #E2EBFA;\n",
              "      box-shadow: 0px 1px 2px rgba(60, 64, 67, 0.3), 0px 1px 3px 1px rgba(60, 64, 67, 0.15);\n",
              "      fill: #174EA6;\n",
              "    }\n",
              "\n",
              "    [theme=dark] .colab-df-convert {\n",
              "      background-color: #3B4455;\n",
              "      fill: #D2E3FC;\n",
              "    }\n",
              "\n",
              "    [theme=dark] .colab-df-convert:hover {\n",
              "      background-color: #434B5C;\n",
              "      box-shadow: 0px 1px 3px 1px rgba(0, 0, 0, 0.15);\n",
              "      filter: drop-shadow(0px 1px 2px rgba(0, 0, 0, 0.3));\n",
              "      fill: #FFFFFF;\n",
              "    }\n",
              "  </style>\n",
              "\n",
              "      <script>\n",
              "        const buttonEl =\n",
              "          document.querySelector('#df-03b7e726-a428-475a-926d-5765e0e0d330 button.colab-df-convert');\n",
              "        buttonEl.style.display =\n",
              "          google.colab.kernel.accessAllowed ? 'block' : 'none';\n",
              "\n",
              "        async function convertToInteractive(key) {\n",
              "          const element = document.querySelector('#df-03b7e726-a428-475a-926d-5765e0e0d330');\n",
              "          const dataTable =\n",
              "            await google.colab.kernel.invokeFunction('convertToInteractive',\n",
              "                                                     [key], {});\n",
              "          if (!dataTable) return;\n",
              "\n",
              "          const docLinkHtml = 'Like what you see? Visit the ' +\n",
              "            '<a target=\"_blank\" href=https://colab.research.google.com/notebooks/data_table.ipynb>data table notebook</a>'\n",
              "            + ' to learn more about interactive tables.';\n",
              "          element.innerHTML = '';\n",
              "          dataTable['output_type'] = 'display_data';\n",
              "          await google.colab.output.renderOutput(dataTable, element);\n",
              "          const docLink = document.createElement('div');\n",
              "          docLink.innerHTML = docLinkHtml;\n",
              "          element.appendChild(docLink);\n",
              "        }\n",
              "      </script>\n",
              "    </div>\n",
              "  </div>\n",
              "  "
            ]
          },
          "metadata": {},
          "execution_count": 106
        }
      ]
    },
    {
      "cell_type": "code",
      "source": [
        "df.describe()"
      ],
      "metadata": {
        "colab": {
          "base_uri": "https://localhost:8080/",
          "height": 300
        },
        "id": "2O9SHojFRN0D",
        "outputId": "b6fc0932-82a7-4f4a-93c6-4091c8ee3848"
      },
      "execution_count": 107,
      "outputs": [
        {
          "output_type": "execute_result",
          "data": {
            "text/plain": [
              "       Discounted_Price\n",
              "count       2201.000000\n",
              "mean         454.672994\n",
              "std          226.998872\n",
              "min           37.000000\n",
              "25%          278.000000\n",
              "50%          399.000000\n",
              "75%          599.000000\n",
              "max          999.000000"
            ],
            "text/html": [
              "\n",
              "  <div id=\"df-d3ae1e64-45bc-4d7e-b607-7968006c0cc2\">\n",
              "    <div class=\"colab-df-container\">\n",
              "      <div>\n",
              "<style scoped>\n",
              "    .dataframe tbody tr th:only-of-type {\n",
              "        vertical-align: middle;\n",
              "    }\n",
              "\n",
              "    .dataframe tbody tr th {\n",
              "        vertical-align: top;\n",
              "    }\n",
              "\n",
              "    .dataframe thead th {\n",
              "        text-align: right;\n",
              "    }\n",
              "</style>\n",
              "<table border=\"1\" class=\"dataframe\">\n",
              "  <thead>\n",
              "    <tr style=\"text-align: right;\">\n",
              "      <th></th>\n",
              "      <th>Discounted_Price</th>\n",
              "    </tr>\n",
              "  </thead>\n",
              "  <tbody>\n",
              "    <tr>\n",
              "      <th>count</th>\n",
              "      <td>2201.000000</td>\n",
              "    </tr>\n",
              "    <tr>\n",
              "      <th>mean</th>\n",
              "      <td>454.672994</td>\n",
              "    </tr>\n",
              "    <tr>\n",
              "      <th>std</th>\n",
              "      <td>226.998872</td>\n",
              "    </tr>\n",
              "    <tr>\n",
              "      <th>min</th>\n",
              "      <td>37.000000</td>\n",
              "    </tr>\n",
              "    <tr>\n",
              "      <th>25%</th>\n",
              "      <td>278.000000</td>\n",
              "    </tr>\n",
              "    <tr>\n",
              "      <th>50%</th>\n",
              "      <td>399.000000</td>\n",
              "    </tr>\n",
              "    <tr>\n",
              "      <th>75%</th>\n",
              "      <td>599.000000</td>\n",
              "    </tr>\n",
              "    <tr>\n",
              "      <th>max</th>\n",
              "      <td>999.000000</td>\n",
              "    </tr>\n",
              "  </tbody>\n",
              "</table>\n",
              "</div>\n",
              "      <button class=\"colab-df-convert\" onclick=\"convertToInteractive('df-d3ae1e64-45bc-4d7e-b607-7968006c0cc2')\"\n",
              "              title=\"Convert this dataframe to an interactive table.\"\n",
              "              style=\"display:none;\">\n",
              "        \n",
              "  <svg xmlns=\"http://www.w3.org/2000/svg\" height=\"24px\"viewBox=\"0 0 24 24\"\n",
              "       width=\"24px\">\n",
              "    <path d=\"M0 0h24v24H0V0z\" fill=\"none\"/>\n",
              "    <path d=\"M18.56 5.44l.94 2.06.94-2.06 2.06-.94-2.06-.94-.94-2.06-.94 2.06-2.06.94zm-11 1L8.5 8.5l.94-2.06 2.06-.94-2.06-.94L8.5 2.5l-.94 2.06-2.06.94zm10 10l.94 2.06.94-2.06 2.06-.94-2.06-.94-.94-2.06-.94 2.06-2.06.94z\"/><path d=\"M17.41 7.96l-1.37-1.37c-.4-.4-.92-.59-1.43-.59-.52 0-1.04.2-1.43.59L10.3 9.45l-7.72 7.72c-.78.78-.78 2.05 0 2.83L4 21.41c.39.39.9.59 1.41.59.51 0 1.02-.2 1.41-.59l7.78-7.78 2.81-2.81c.8-.78.8-2.07 0-2.86zM5.41 20L4 18.59l7.72-7.72 1.47 1.35L5.41 20z\"/>\n",
              "  </svg>\n",
              "      </button>\n",
              "      \n",
              "  <style>\n",
              "    .colab-df-container {\n",
              "      display:flex;\n",
              "      flex-wrap:wrap;\n",
              "      gap: 12px;\n",
              "    }\n",
              "\n",
              "    .colab-df-convert {\n",
              "      background-color: #E8F0FE;\n",
              "      border: none;\n",
              "      border-radius: 50%;\n",
              "      cursor: pointer;\n",
              "      display: none;\n",
              "      fill: #1967D2;\n",
              "      height: 32px;\n",
              "      padding: 0 0 0 0;\n",
              "      width: 32px;\n",
              "    }\n",
              "\n",
              "    .colab-df-convert:hover {\n",
              "      background-color: #E2EBFA;\n",
              "      box-shadow: 0px 1px 2px rgba(60, 64, 67, 0.3), 0px 1px 3px 1px rgba(60, 64, 67, 0.15);\n",
              "      fill: #174EA6;\n",
              "    }\n",
              "\n",
              "    [theme=dark] .colab-df-convert {\n",
              "      background-color: #3B4455;\n",
              "      fill: #D2E3FC;\n",
              "    }\n",
              "\n",
              "    [theme=dark] .colab-df-convert:hover {\n",
              "      background-color: #434B5C;\n",
              "      box-shadow: 0px 1px 3px 1px rgba(0, 0, 0, 0.15);\n",
              "      filter: drop-shadow(0px 1px 2px rgba(0, 0, 0, 0.3));\n",
              "      fill: #FFFFFF;\n",
              "    }\n",
              "  </style>\n",
              "\n",
              "      <script>\n",
              "        const buttonEl =\n",
              "          document.querySelector('#df-d3ae1e64-45bc-4d7e-b607-7968006c0cc2 button.colab-df-convert');\n",
              "        buttonEl.style.display =\n",
              "          google.colab.kernel.accessAllowed ? 'block' : 'none';\n",
              "\n",
              "        async function convertToInteractive(key) {\n",
              "          const element = document.querySelector('#df-d3ae1e64-45bc-4d7e-b607-7968006c0cc2');\n",
              "          const dataTable =\n",
              "            await google.colab.kernel.invokeFunction('convertToInteractive',\n",
              "                                                     [key], {});\n",
              "          if (!dataTable) return;\n",
              "\n",
              "          const docLinkHtml = 'Like what you see? Visit the ' +\n",
              "            '<a target=\"_blank\" href=https://colab.research.google.com/notebooks/data_table.ipynb>data table notebook</a>'\n",
              "            + ' to learn more about interactive tables.';\n",
              "          element.innerHTML = '';\n",
              "          dataTable['output_type'] = 'display_data';\n",
              "          await google.colab.output.renderOutput(dataTable, element);\n",
              "          const docLink = document.createElement('div');\n",
              "          docLink.innerHTML = docLinkHtml;\n",
              "          element.appendChild(docLink);\n",
              "        }\n",
              "      </script>\n",
              "    </div>\n",
              "  </div>\n",
              "  "
            ]
          },
          "metadata": {},
          "execution_count": 107
        }
      ]
    },
    {
      "cell_type": "code",
      "source": [
        "df.info()"
      ],
      "metadata": {
        "colab": {
          "base_uri": "https://localhost:8080/"
        },
        "id": "He6rKn6_RSyy",
        "outputId": "fadd9d93-898a-40b3-de02-e52ca1913abb"
      },
      "execution_count": 108,
      "outputs": [
        {
          "output_type": "stream",
          "name": "stdout",
          "text": [
            "<class 'pandas.core.frame.DataFrame'>\n",
            "RangeIndex: 2212 entries, 0 to 2211\n",
            "Data columns (total 6 columns):\n",
            " #   Column            Non-Null Count  Dtype  \n",
            "---  ------            --------------  -----  \n",
            " 0   Product_name      2212 non-null   object \n",
            " 1   Stars             2159 non-null   object \n",
            " 2   Discount          2064 non-null   object \n",
            " 3   Reviews Count     2159 non-null   object \n",
            " 4   Discounted_Price  2201 non-null   float64\n",
            " 5   Original_Price    2069 non-null   object \n",
            "dtypes: float64(1), object(5)\n",
            "memory usage: 103.8+ KB\n"
          ]
        }
      ]
    },
    {
      "cell_type": "code",
      "source": [
        "print(df.columns)"
      ],
      "metadata": {
        "colab": {
          "base_uri": "https://localhost:8080/"
        },
        "id": "3rIeNLYMRXkT",
        "outputId": "20e978bd-5d30-4398-9b5f-f52098319024"
      },
      "execution_count": 109,
      "outputs": [
        {
          "output_type": "stream",
          "name": "stdout",
          "text": [
            "Index(['Product_name', 'Stars', 'Discount', 'Reviews Count',\n",
            "       'Discounted_Price', 'Original_Price'],\n",
            "      dtype='object')\n"
          ]
        }
      ]
    },
    {
      "cell_type": "markdown",
      "source": [
        "# Z test\n",
        "\n",
        "H0 : mu = 404\n",
        "\n",
        "H1 : mu != 404"
      ],
      "metadata": {
        "id": "01stnErwRnEs"
      }
    },
    {
      "cell_type": "code",
      "source": [
        "sample = df[41:241]"
      ],
      "metadata": {
        "id": "nlMC2s5YRbSD"
      },
      "execution_count": 110,
      "outputs": []
    },
    {
      "cell_type": "code",
      "source": [
        "sample"
      ],
      "metadata": {
        "colab": {
          "base_uri": "https://localhost:8080/",
          "height": 659
        },
        "id": "UW1MY8dHS3_f",
        "outputId": "57c099ec-51f3-4e3b-9590-fc52d1e940a7"
      },
      "execution_count": 111,
      "outputs": [
        {
          "output_type": "execute_result",
          "data": {
            "text/plain": [
              "                                          Product_name               Stars  \\\n",
              "41   Denial Navy Leather Wallet for Men | Wallets M...  4.3 out of 5 stars   \n",
              "42   Men's Cotton Sports Ankle Socks, Pack of 5 Pai...  4.0 out of 5 stars   \n",
              "43                       Men's OXYFIT (N) Walking Shoe  4.1 out of 5 stars   \n",
              "44   Men's Double Coated Popular Latest Style Stain...  4.7 out of 5 stars   \n",
              "45   Plain Encounter Stockings (L, Black) - Polyest...  4.1 out of 5 stars   \n",
              "..                                                 ...                 ...   \n",
              "236  Black Base Metal Leather Funky Multistrand Gui...  3.7 out of 5 stars   \n",
              "237                                         Men Briefs  4.0 out of 5 stars   \n",
              "238  Men's Synthetic Sports,Running,Casual Loafer S...  3.9 out of 5 stars   \n",
              "239         Analog White Dial Men's Watch -NJ7987YL02W  4.2 out of 5 stars   \n",
              "240  Steve Green RFID Blocking Leather Wallet for M...  4.1 out of 5 stars   \n",
              "\n",
              "      Discount Reviews Count  Discounted_Price Original_Price  \n",
              "41   (80% off)         9,016             499.0         ₹2,499  \n",
              "42   (67% off)        10,646             329.0           ₹999  \n",
              "43   (23% off)        31,470             769.0           ₹999  \n",
              "44   (84% off)             9             159.0           ₹999  \n",
              "45   (23% off)         2,478             112.0           ₹145  \n",
              "..         ...           ...               ...            ...  \n",
              "236  (80% off)           498             200.0           ₹999  \n",
              "237  (30% off)        14,135             289.0           ₹410  \n",
              "238  (25% off)        13,465             524.0           ₹699  \n",
              "239        NaN         5,438             699.0            NaN  \n",
              "240  (80% off)           595             499.0         ₹2,499  \n",
              "\n",
              "[200 rows x 6 columns]"
            ],
            "text/html": [
              "\n",
              "  <div id=\"df-75ab4457-5ee2-4eca-9647-8b3dc155dabb\">\n",
              "    <div class=\"colab-df-container\">\n",
              "      <div>\n",
              "<style scoped>\n",
              "    .dataframe tbody tr th:only-of-type {\n",
              "        vertical-align: middle;\n",
              "    }\n",
              "\n",
              "    .dataframe tbody tr th {\n",
              "        vertical-align: top;\n",
              "    }\n",
              "\n",
              "    .dataframe thead th {\n",
              "        text-align: right;\n",
              "    }\n",
              "</style>\n",
              "<table border=\"1\" class=\"dataframe\">\n",
              "  <thead>\n",
              "    <tr style=\"text-align: right;\">\n",
              "      <th></th>\n",
              "      <th>Product_name</th>\n",
              "      <th>Stars</th>\n",
              "      <th>Discount</th>\n",
              "      <th>Reviews Count</th>\n",
              "      <th>Discounted_Price</th>\n",
              "      <th>Original_Price</th>\n",
              "    </tr>\n",
              "  </thead>\n",
              "  <tbody>\n",
              "    <tr>\n",
              "      <th>41</th>\n",
              "      <td>Denial Navy Leather Wallet for Men | Wallets M...</td>\n",
              "      <td>4.3 out of 5 stars</td>\n",
              "      <td>(80% off)</td>\n",
              "      <td>9,016</td>\n",
              "      <td>499.0</td>\n",
              "      <td>₹2,499</td>\n",
              "    </tr>\n",
              "    <tr>\n",
              "      <th>42</th>\n",
              "      <td>Men's Cotton Sports Ankle Socks, Pack of 5 Pai...</td>\n",
              "      <td>4.0 out of 5 stars</td>\n",
              "      <td>(67% off)</td>\n",
              "      <td>10,646</td>\n",
              "      <td>329.0</td>\n",
              "      <td>₹999</td>\n",
              "    </tr>\n",
              "    <tr>\n",
              "      <th>43</th>\n",
              "      <td>Men's OXYFIT (N) Walking Shoe</td>\n",
              "      <td>4.1 out of 5 stars</td>\n",
              "      <td>(23% off)</td>\n",
              "      <td>31,470</td>\n",
              "      <td>769.0</td>\n",
              "      <td>₹999</td>\n",
              "    </tr>\n",
              "    <tr>\n",
              "      <th>44</th>\n",
              "      <td>Men's Double Coated Popular Latest Style Stain...</td>\n",
              "      <td>4.7 out of 5 stars</td>\n",
              "      <td>(84% off)</td>\n",
              "      <td>9</td>\n",
              "      <td>159.0</td>\n",
              "      <td>₹999</td>\n",
              "    </tr>\n",
              "    <tr>\n",
              "      <th>45</th>\n",
              "      <td>Plain Encounter Stockings (L, Black) - Polyest...</td>\n",
              "      <td>4.1 out of 5 stars</td>\n",
              "      <td>(23% off)</td>\n",
              "      <td>2,478</td>\n",
              "      <td>112.0</td>\n",
              "      <td>₹145</td>\n",
              "    </tr>\n",
              "    <tr>\n",
              "      <th>...</th>\n",
              "      <td>...</td>\n",
              "      <td>...</td>\n",
              "      <td>...</td>\n",
              "      <td>...</td>\n",
              "      <td>...</td>\n",
              "      <td>...</td>\n",
              "    </tr>\n",
              "    <tr>\n",
              "      <th>236</th>\n",
              "      <td>Black Base Metal Leather Funky Multistrand Gui...</td>\n",
              "      <td>3.7 out of 5 stars</td>\n",
              "      <td>(80% off)</td>\n",
              "      <td>498</td>\n",
              "      <td>200.0</td>\n",
              "      <td>₹999</td>\n",
              "    </tr>\n",
              "    <tr>\n",
              "      <th>237</th>\n",
              "      <td>Men Briefs</td>\n",
              "      <td>4.0 out of 5 stars</td>\n",
              "      <td>(30% off)</td>\n",
              "      <td>14,135</td>\n",
              "      <td>289.0</td>\n",
              "      <td>₹410</td>\n",
              "    </tr>\n",
              "    <tr>\n",
              "      <th>238</th>\n",
              "      <td>Men's Synthetic Sports,Running,Casual Loafer S...</td>\n",
              "      <td>3.9 out of 5 stars</td>\n",
              "      <td>(25% off)</td>\n",
              "      <td>13,465</td>\n",
              "      <td>524.0</td>\n",
              "      <td>₹699</td>\n",
              "    </tr>\n",
              "    <tr>\n",
              "      <th>239</th>\n",
              "      <td>Analog White Dial Men's Watch -NJ7987YL02W</td>\n",
              "      <td>4.2 out of 5 stars</td>\n",
              "      <td>NaN</td>\n",
              "      <td>5,438</td>\n",
              "      <td>699.0</td>\n",
              "      <td>NaN</td>\n",
              "    </tr>\n",
              "    <tr>\n",
              "      <th>240</th>\n",
              "      <td>Steve Green RFID Blocking Leather Wallet for M...</td>\n",
              "      <td>4.1 out of 5 stars</td>\n",
              "      <td>(80% off)</td>\n",
              "      <td>595</td>\n",
              "      <td>499.0</td>\n",
              "      <td>₹2,499</td>\n",
              "    </tr>\n",
              "  </tbody>\n",
              "</table>\n",
              "<p>200 rows × 6 columns</p>\n",
              "</div>\n",
              "      <button class=\"colab-df-convert\" onclick=\"convertToInteractive('df-75ab4457-5ee2-4eca-9647-8b3dc155dabb')\"\n",
              "              title=\"Convert this dataframe to an interactive table.\"\n",
              "              style=\"display:none;\">\n",
              "        \n",
              "  <svg xmlns=\"http://www.w3.org/2000/svg\" height=\"24px\"viewBox=\"0 0 24 24\"\n",
              "       width=\"24px\">\n",
              "    <path d=\"M0 0h24v24H0V0z\" fill=\"none\"/>\n",
              "    <path d=\"M18.56 5.44l.94 2.06.94-2.06 2.06-.94-2.06-.94-.94-2.06-.94 2.06-2.06.94zm-11 1L8.5 8.5l.94-2.06 2.06-.94-2.06-.94L8.5 2.5l-.94 2.06-2.06.94zm10 10l.94 2.06.94-2.06 2.06-.94-2.06-.94-.94-2.06-.94 2.06-2.06.94z\"/><path d=\"M17.41 7.96l-1.37-1.37c-.4-.4-.92-.59-1.43-.59-.52 0-1.04.2-1.43.59L10.3 9.45l-7.72 7.72c-.78.78-.78 2.05 0 2.83L4 21.41c.39.39.9.59 1.41.59.51 0 1.02-.2 1.41-.59l7.78-7.78 2.81-2.81c.8-.78.8-2.07 0-2.86zM5.41 20L4 18.59l7.72-7.72 1.47 1.35L5.41 20z\"/>\n",
              "  </svg>\n",
              "      </button>\n",
              "      \n",
              "  <style>\n",
              "    .colab-df-container {\n",
              "      display:flex;\n",
              "      flex-wrap:wrap;\n",
              "      gap: 12px;\n",
              "    }\n",
              "\n",
              "    .colab-df-convert {\n",
              "      background-color: #E8F0FE;\n",
              "      border: none;\n",
              "      border-radius: 50%;\n",
              "      cursor: pointer;\n",
              "      display: none;\n",
              "      fill: #1967D2;\n",
              "      height: 32px;\n",
              "      padding: 0 0 0 0;\n",
              "      width: 32px;\n",
              "    }\n",
              "\n",
              "    .colab-df-convert:hover {\n",
              "      background-color: #E2EBFA;\n",
              "      box-shadow: 0px 1px 2px rgba(60, 64, 67, 0.3), 0px 1px 3px 1px rgba(60, 64, 67, 0.15);\n",
              "      fill: #174EA6;\n",
              "    }\n",
              "\n",
              "    [theme=dark] .colab-df-convert {\n",
              "      background-color: #3B4455;\n",
              "      fill: #D2E3FC;\n",
              "    }\n",
              "\n",
              "    [theme=dark] .colab-df-convert:hover {\n",
              "      background-color: #434B5C;\n",
              "      box-shadow: 0px 1px 3px 1px rgba(0, 0, 0, 0.15);\n",
              "      filter: drop-shadow(0px 1px 2px rgba(0, 0, 0, 0.3));\n",
              "      fill: #FFFFFF;\n",
              "    }\n",
              "  </style>\n",
              "\n",
              "      <script>\n",
              "        const buttonEl =\n",
              "          document.querySelector('#df-75ab4457-5ee2-4eca-9647-8b3dc155dabb button.colab-df-convert');\n",
              "        buttonEl.style.display =\n",
              "          google.colab.kernel.accessAllowed ? 'block' : 'none';\n",
              "\n",
              "        async function convertToInteractive(key) {\n",
              "          const element = document.querySelector('#df-75ab4457-5ee2-4eca-9647-8b3dc155dabb');\n",
              "          const dataTable =\n",
              "            await google.colab.kernel.invokeFunction('convertToInteractive',\n",
              "                                                     [key], {});\n",
              "          if (!dataTable) return;\n",
              "\n",
              "          const docLinkHtml = 'Like what you see? Visit the ' +\n",
              "            '<a target=\"_blank\" href=https://colab.research.google.com/notebooks/data_table.ipynb>data table notebook</a>'\n",
              "            + ' to learn more about interactive tables.';\n",
              "          element.innerHTML = '';\n",
              "          dataTable['output_type'] = 'display_data';\n",
              "          await google.colab.output.renderOutput(dataTable, element);\n",
              "          const docLink = document.createElement('div');\n",
              "          docLink.innerHTML = docLinkHtml;\n",
              "          element.appendChild(docLink);\n",
              "        }\n",
              "      </script>\n",
              "    </div>\n",
              "  </div>\n",
              "  "
            ]
          },
          "metadata": {},
          "execution_count": 111
        }
      ]
    },
    {
      "cell_type": "code",
      "source": [
        "len(sample)"
      ],
      "metadata": {
        "colab": {
          "base_uri": "https://localhost:8080/"
        },
        "id": "cnrkZ606S43w",
        "outputId": "544843e2-bc0f-42a5-b65e-02fe67684b62"
      },
      "execution_count": 112,
      "outputs": [
        {
          "output_type": "execute_result",
          "data": {
            "text/plain": [
              "200"
            ]
          },
          "metadata": {},
          "execution_count": 112
        }
      ]
    },
    {
      "cell_type": "code",
      "source": [
        "xbar = sample['Discounted_Price'].mean() \n",
        "mu = population['Discounted_Price'].mean()  \n",
        "sigma = population['Discounted_Price'].std()    \n",
        "n = len(sample)     \n",
        "alpha = 0.05"
      ],
      "metadata": {
        "id": "HGOibfMkS8_g"
      },
      "execution_count": 113,
      "outputs": []
    },
    {
      "cell_type": "code",
      "source": [
        "xbar"
      ],
      "metadata": {
        "colab": {
          "base_uri": "https://localhost:8080/"
        },
        "id": "HKgIRI-QZFLv",
        "outputId": "b1a5d692-bc83-4179-fd80-cabd7d66ed9e"
      },
      "execution_count": 114,
      "outputs": [
        {
          "output_type": "execute_result",
          "data": {
            "text/plain": [
              "428.69191919191917"
            ]
          },
          "metadata": {},
          "execution_count": 114
        }
      ]
    },
    {
      "cell_type": "code",
      "source": [
        "mu"
      ],
      "metadata": {
        "colab": {
          "base_uri": "https://localhost:8080/"
        },
        "id": "36o4VRJ_ZFx7",
        "outputId": "de3eee28-d942-488e-e534-3b6bbd6dad9b"
      },
      "execution_count": 115,
      "outputs": [
        {
          "output_type": "execute_result",
          "data": {
            "text/plain": [
              "451.36646464646464"
            ]
          },
          "metadata": {},
          "execution_count": 115
        }
      ]
    },
    {
      "cell_type": "code",
      "source": [
        "sigma"
      ],
      "metadata": {
        "colab": {
          "base_uri": "https://localhost:8080/"
        },
        "id": "pUUZeMMgZHJ5",
        "outputId": "96ee31ee-61a0-4669-e6d6-a73d46cc3e4d"
      },
      "execution_count": 116,
      "outputs": [
        {
          "output_type": "execute_result",
          "data": {
            "text/plain": [
              "226.51988908699843"
            ]
          },
          "metadata": {},
          "execution_count": 116
        }
      ]
    },
    {
      "cell_type": "code",
      "source": [
        "z_crit = abs(st.norm.ppf(alpha/2))\n",
        "z_crit"
      ],
      "metadata": {
        "colab": {
          "base_uri": "https://localhost:8080/"
        },
        "id": "f-ABcj8YZICZ",
        "outputId": "259141fa-4d5e-483a-8c49-b82cb7d51fce"
      },
      "execution_count": 117,
      "outputs": [
        {
          "output_type": "execute_result",
          "data": {
            "text/plain": [
              "1.9599639845400545"
            ]
          },
          "metadata": {},
          "execution_count": 117
        }
      ]
    },
    {
      "cell_type": "code",
      "source": [
        "z = (xbar-mu)/(sigma/np.sqrt(n))\n",
        "z"
      ],
      "metadata": {
        "colab": {
          "base_uri": "https://localhost:8080/"
        },
        "id": "ma54rxgshddm",
        "outputId": "f864c7f2-ced6-4178-db9e-d24847bf7609"
      },
      "execution_count": 118,
      "outputs": [
        {
          "output_type": "execute_result",
          "data": {
            "text/plain": [
              "-1.415621817214811"
            ]
          },
          "metadata": {},
          "execution_count": 118
        }
      ]
    },
    {
      "cell_type": "code",
      "source": [
        "if(abs(z) > z_crit):\n",
        "    print('Null hypothesis can be rejected')\n",
        "else:\n",
        "    print('Null hypothesis cannot be rejected')"
      ],
      "metadata": {
        "colab": {
          "base_uri": "https://localhost:8080/"
        },
        "id": "FRYwd-GShmKm",
        "outputId": "b661f9f5-05e7-4d26-e68b-9e738dee48fd"
      },
      "execution_count": 119,
      "outputs": [
        {
          "output_type": "stream",
          "name": "stdout",
          "text": [
            "Null hypothesis cannot be rejected due to insufficient evidence\n"
          ]
        }
      ]
    },
    {
      "cell_type": "code",
      "source": [
        "print(xbar,mu,sigma,n)"
      ],
      "metadata": {
        "colab": {
          "base_uri": "https://localhost:8080/"
        },
        "id": "6q7OsD6_hwu5",
        "outputId": "7b1aa435-8c34-474e-af05-32d6d4381821"
      },
      "execution_count": 120,
      "outputs": [
        {
          "output_type": "stream",
          "name": "stdout",
          "text": [
            "428.69191919191917 451.36646464646464 226.51988908699843 200\n"
          ]
        }
      ]
    },
    {
      "cell_type": "markdown",
      "source": [
        "# T Test\n",
        "\n",
        "H0 : mu = 404\n",
        "\n",
        "H1 : mu != 404"
      ],
      "metadata": {
        "id": "svEqlEqzkOHZ"
      }
    },
    {
      "cell_type": "code",
      "source": [
        "t_crit = st.t.ppf(0.05,n-1)"
      ],
      "metadata": {
        "id": "0quDv2URh8i6"
      },
      "execution_count": 121,
      "outputs": []
    },
    {
      "cell_type": "code",
      "source": [
        "t = (xbar-mu)/sigma/np.sqrt(sample['Discounted_Price'].std())\n",
        "t"
      ],
      "metadata": {
        "colab": {
          "base_uri": "https://localhost:8080/"
        },
        "id": "Nc2AzAn1ktxV",
        "outputId": "037132a3-3131-4971-9965-22b7d04b1b09"
      },
      "execution_count": 122,
      "outputs": [
        {
          "output_type": "execute_result",
          "data": {
            "text/plain": [
              "-0.0067990348336327815"
            ]
          },
          "metadata": {},
          "execution_count": 122
        }
      ]
    },
    {
      "cell_type": "code",
      "source": [
        "if(abs(t) < abs(t_crit)):\n",
        "    print('Null hypothesis cannot be rejected')\n",
        "else:\n",
        "    print('Null hypothesis can be rejected')"
      ],
      "metadata": {
        "colab": {
          "base_uri": "https://localhost:8080/"
        },
        "id": "66gCy9eSlQB5",
        "outputId": "781ba61d-f360-4068-bf4b-6054dca50228"
      },
      "execution_count": 123,
      "outputs": [
        {
          "output_type": "stream",
          "name": "stdout",
          "text": [
            "Null hypothesis cannot be rejected\n"
          ]
        }
      ]
    },
    {
      "cell_type": "code",
      "source": [
        "print(population['Discounted_Price'].std(),sample['Discounted_Price'].std())"
      ],
      "metadata": {
        "colab": {
          "base_uri": "https://localhost:8080/"
        },
        "id": "U5gVoUt5lfeI",
        "outputId": "81fcb497-ed3b-4b4c-80c9-788093df5e32"
      },
      "execution_count": 124,
      "outputs": [
        {
          "output_type": "stream",
          "name": "stdout",
          "text": [
            "226.51988908699843 216.7554202750949\n"
          ]
        }
      ]
    }
  ]
}