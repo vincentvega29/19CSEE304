{
  "cells": [
    {
      "cell_type": "code",
      "execution_count": 1,
      "metadata": {
        "id": "p1wS6bfNIH47"
      },
      "outputs": [],
      "source": [
        "#DISTRIBUTIONS\n",
        "#CB.EN.U4CSE20211"
      ]
    },
    {
      "cell_type": "code",
      "execution_count": 2,
      "metadata": {
        "id": "bdg1yl_HIH5E"
      },
      "outputs": [],
      "source": [
        "\n",
        "import numpy as np"
      ]
    },
    {
      "cell_type": "code",
      "execution_count": 3,
      "metadata": {
        "colab": {
          "base_uri": "https://localhost:8080/",
          "height": 70
        },
        "id": "fFdE1jc9IH5F",
        "outputId": "f61ab95e-af04-4eb8-fe14-f975873ee617"
      },
      "outputs": [
        {
          "data": {
            "application/vnd.google.colaboratory.intrinsic+json": {
              "type": "string"
            },
            "text/plain": [
              "'\\nSuppose there are twelve multiple choice questions in an English class quiz. Each question has five possible answers, and only one of them is correct. Find the probability of having (a) Exactly 4 ans correct (b) four or less correct answers if a student attempts to answer every question at random.\\nSolution\\n\\tSince only one out of five possible answers is correct, the probability of answering a question correctly by random is 1/5=0.2. \\n\\tWe can find the probability of having exactly 4 correct answers by random attempts as follows.\\n(4,\\xa0size=12,\\xa0prob=0.2)\\n'"
            ]
          },
          "execution_count": 3,
          "metadata": {},
          "output_type": "execute_result"
        }
      ],
      "source": [
        "#Binomial\n",
        "\"\"\"\n",
        "Suppose there are twelve multiple choice questions in an English class quiz. Each question has five possible answers, and only one of them is correct. Find the probability of having (a) Exactly 4 ans correct (b) four or less correct answers if a student attempts to answer every question at random.\n",
        "Solution\n",
        "\tSince only one out of five possible answers is correct, the probability of answering a question correctly by random is 1/5=0.2. \n",
        "\tWe can find the probability of having exactly 4 correct answers by random attempts as follows.\n",
        "(4, size=12, prob=0.2)\n",
        "\"\"\""
      ]
    },
    {
      "cell_type": "code",
      "execution_count": 4,
      "metadata": {
        "colab": {
          "base_uri": "https://localhost:8080/"
        },
        "id": "coxUC1nQIH5H",
        "outputId": "2be2ab21-e1b4-4909-d641-54b9acdb8723"
      },
      "outputs": [
        {
          "data": {
            "text/plain": [
              "0.1326"
            ]
          },
          "execution_count": 4,
          "metadata": {},
          "output_type": "execute_result"
        }
      ],
      "source": [
        "sum(np.random.binomial(12, 0.2, 20000) == 4)/20000"
      ]
    },
    {
      "cell_type": "code",
      "execution_count": 5,
      "metadata": {
        "colab": {
          "base_uri": "https://localhost:8080/"
        },
        "id": "dj9aDfnDIH5K",
        "outputId": "b2244b5b-0fe3-46d2-aec6-94f00fc7679c"
      },
      "outputs": [
        {
          "data": {
            "text/plain": [
              "0.92755"
            ]
          },
          "execution_count": 5,
          "metadata": {},
          "output_type": "execute_result"
        }
      ],
      "source": [
        "sum(np.random.binomial(12, 0.2, 20000) <= 4)/20000"
      ]
    },
    {
      "cell_type": "code",
      "execution_count": 6,
      "metadata": {
        "colab": {
          "base_uri": "https://localhost:8080/",
          "height": 53
        },
        "id": "HDmyRfbdIH5M",
        "outputId": "f1ffbe60-5334-4f86-b1cf-f611a3935a6a"
      },
      "outputs": [
        {
          "data": {
            "application/vnd.google.colaboratory.intrinsic+json": {
              "type": "string"
            },
            "text/plain": [
              "'A real world example. A company drills 9 wild-cat oil exploration wells, each with an estimated probability of success of 0.1. All nine wells fail. What is the probability of that happening?\\nLet’s do 20,000 trials of the model, and count the number that generate zero positive results.'"
            ]
          },
          "execution_count": 6,
          "metadata": {},
          "output_type": "execute_result"
        }
      ],
      "source": [
        "\"\"\"A real world example. A company drills 9 wild-cat oil exploration wells, each with an estimated probability of success of 0.1. All nine wells fail. What is the probability of that happening?\n",
        "Let’s do 20,000 trials of the model, and count the number that generate zero positive results.\"\"\""
      ]
    },
    {
      "cell_type": "code",
      "execution_count": 7,
      "metadata": {
        "colab": {
          "base_uri": "https://localhost:8080/"
        },
        "id": "6LeScj-zIH5N",
        "outputId": "3f17bfaa-5948-4b88-d980-031dabc31cca"
      },
      "outputs": [
        {
          "data": {
            "text/plain": [
              "0.39265"
            ]
          },
          "execution_count": 7,
          "metadata": {},
          "output_type": "execute_result"
        }
      ],
      "source": [
        "sum(np.random.binomial(9, 0.1, 20000) == 0)/20000"
      ]
    },
    {
      "cell_type": "code",
      "execution_count": 8,
      "metadata": {
        "id": "EXseD2S1IH5O"
      },
      "outputs": [],
      "source": [
        "#Poisson\n",
        "#If there are twelve cars crossing a bridge per minute on average, find the probability of having seventeen or more cars crossing the bridge in a particular minute."
      ]
    },
    {
      "cell_type": "code",
      "execution_count": 9,
      "metadata": {
        "colab": {
          "base_uri": "https://localhost:8080/"
        },
        "id": "cTwgoXPJIH5Q",
        "outputId": "28942ec0-cb12-457e-d4c9-c3838fa017a9"
      },
      "outputs": [
        {
          "data": {
            "text/plain": [
              "0.1059"
            ]
          },
          "execution_count": 9,
          "metadata": {},
          "output_type": "execute_result"
        }
      ],
      "source": [
        "sum(np.random.poisson(12, 10000) >=17)/10000\n"
      ]
    },
    {
      "cell_type": "code",
      "execution_count": 10,
      "metadata": {
        "id": "-pLLMhnXIH5R"
      },
      "outputs": [],
      "source": [
        "#Uniform Distribution"
      ]
    },
    {
      "cell_type": "code",
      "execution_count": 11,
      "metadata": {
        "colab": {
          "base_uri": "https://localhost:8080/"
        },
        "id": "8HFs10C9IH5S",
        "outputId": "e4d57690-1512-4c8b-8630-8aa09f1b0f4f"
      },
      "outputs": [
        {
          "data": {
            "text/plain": [
              "0.751"
            ]
          },
          "execution_count": 11,
          "metadata": {},
          "output_type": "execute_result"
        }
      ],
      "source": [
        "sum(np.random.uniform(0,20,1000) >5)/1000"
      ]
    },
    {
      "cell_type": "code",
      "execution_count": 12,
      "metadata": {
        "colab": {
          "base_uri": "https://localhost:8080/"
        },
        "id": "Ydk9AUskIH5T",
        "outputId": "7de45d24-6767-4679-ae50-5953f00a8f85"
      },
      "outputs": [
        {
          "data": {
            "text/plain": [
              "0.521"
            ]
          },
          "execution_count": 12,
          "metadata": {},
          "output_type": "execute_result"
        }
      ],
      "source": [
        "sum(np.random.uniform(0,20,1000) <10)/1000"
      ]
    },
    {
      "cell_type": "code",
      "execution_count": 13,
      "metadata": {
        "colab": {
          "base_uri": "https://localhost:8080/"
        },
        "id": "_cxNGZMwIH5U",
        "outputId": "bec3a591-a053-4e47-a02d-4b0dc3175762"
      },
      "outputs": [
        {
          "data": {
            "text/plain": [
              "0.255"
            ]
          },
          "execution_count": 13,
          "metadata": {},
          "output_type": "execute_result"
        }
      ],
      "source": [
        "(sum(np.random.uniform(0,20,1000) >5)/1000) - (sum(np.random.uniform(0,20,1000) <10)/1000)"
      ]
    },
    {
      "cell_type": "code",
      "execution_count": 14,
      "metadata": {
        "id": "g9qyHnvgIH5V"
      },
      "outputs": [],
      "source": [
        "s = np.random.uniform(-1,0,1000)"
      ]
    },
    {
      "cell_type": "code",
      "execution_count": 15,
      "metadata": {
        "colab": {
          "base_uri": "https://localhost:8080/"
        },
        "id": "v2EckB3bIH5V",
        "outputId": "c708905e-1e65-4288-ebe3-f0d9b1c738fd"
      },
      "outputs": [
        {
          "data": {
            "text/plain": [
              "False"
            ]
          },
          "execution_count": 15,
          "metadata": {},
          "output_type": "execute_result"
        }
      ],
      "source": [
        "np.all(s >= 0)"
      ]
    },
    {
      "cell_type": "code",
      "execution_count": 16,
      "metadata": {
        "colab": {
          "base_uri": "https://localhost:8080/"
        },
        "id": "GJJti-iWIH5W",
        "outputId": "2ca32853-3a4a-4140-fdc9-77a5d7832079"
      },
      "outputs": [
        {
          "data": {
            "text/plain": [
              "True"
            ]
          },
          "execution_count": 16,
          "metadata": {},
          "output_type": "execute_result"
        }
      ],
      "source": [
        "np.all(s < 20)"
      ]
    },
    {
      "cell_type": "code",
      "execution_count": 17,
      "metadata": {
        "id": "gMlOlgnMIH5X"
      },
      "outputs": [],
      "source": [
        "# Normal Distribution"
      ]
    },
    {
      "cell_type": "code",
      "execution_count": 18,
      "metadata": {
        "colab": {
          "base_uri": "https://localhost:8080/"
        },
        "id": "qwM_Gg37IH5Y",
        "outputId": "566da950-e323-435a-b853-bbbf5b4ae38a"
      },
      "outputs": [
        {
          "data": {
            "text/plain": [
              "0.061"
            ]
          },
          "execution_count": 18,
          "metadata": {},
          "output_type": "execute_result"
        }
      ],
      "source": [
        "mu, sigma = 10, 2 # mean and standard deviation\n",
        "sum(np.random.normal(mu, sigma, 1000) >13)/1000"
      ]
    },
    {
      "cell_type": "code",
      "execution_count": 19,
      "metadata": {
        "id": "9yq68xJhIH5Z"
      },
      "outputs": [],
      "source": [
        " s = np.random.normal(mu, sigma, 1000)"
      ]
    },
    {
      "cell_type": "code",
      "execution_count": 20,
      "metadata": {
        "colab": {
          "base_uri": "https://localhost:8080/",
          "height": 282
        },
        "id": "O2cbcFS8IH5Z",
        "outputId": "d6a3c733-f5a8-43bd-b8a5-d34267f0a685"
      },
      "outputs": [
        {
          "data": {
            "image/png": "[encoded data removed]",
            "text/plain": [
              "<Figure size 432x288 with 1 Axes>"
            ]
          },
          "metadata": {},
          "output_type": "display_data"
        }
      ],
      "source": [
        "import matplotlib.pyplot as plt\n",
        "%matplotlib inline\n",
        "plt.style.use('fivethirtyeight')\n",
        "count, bins, ignored = plt.hist(s, 30, density=True)\n",
        "plt.plot(bins, 1/(sigma * np.sqrt(2 * np.pi)) *\n",
        "np.exp( - (bins - mu)**2 / (2 * sigma**2) ),\n",
        "linewidth=2, color='r')\n",
        "plt.show()"
      ]
    },
    {
      "cell_type": "code",
      "execution_count": 21,
      "metadata": {
        "id": "SYO0rRxmIH5a"
      },
      "outputs": [],
      "source": [
        "#Exponential"
      ]
    },
    {
      "cell_type": "code",
      "execution_count": 22,
      "metadata": {
        "id": "frEiNLlTIH5b"
      },
      "outputs": [],
      "source": [
        "#lamda is 1.4 min time between detections in a Geiger counter. Probability of detecting within 0.6 mins"
      ]
    },
    {
      "cell_type": "code",
      "execution_count": 23,
      "metadata": {
        "colab": {
          "base_uri": "https://localhost:8080/"
        },
        "id": "sijzuHKJIH5d",
        "outputId": "c399342e-55db-476c-9976-d94243ed2f33"
      },
      "outputs": [
        {
          "data": {
            "text/plain": [
              "0.3562"
            ]
          },
          "execution_count": 23,
          "metadata": {},
          "output_type": "execute_result"
        }
      ],
      "source": [
        "sum(np.random.exponential(scale=1.4, size=10000)<0.6)/10000"
      ]
    },
    {
      "cell_type": "code",
      "execution_count": 24,
      "metadata": {
        "colab": {
          "base_uri": "https://localhost:8080/"
        },
        "id": "0nb9TWjVIH5d",
        "outputId": "ebf7bd98-1fbb-4010-8c64-40e36bc8f3c4"
      },
      "outputs": [
        {
          "data": {
            "text/plain": [
              "0.30032746262486965"
            ]
          },
          "execution_count": 24,
          "metadata": {},
          "output_type": "execute_result"
        }
      ],
      "source": [
        "import math\n",
        "x = -(0.5/1.4)\n",
        "1-math.exp( x )"
      ]
    },
    {
      "cell_type": "code",
      "execution_count": 25,
      "metadata": {
        "colab": {
          "base_uri": "https://localhost:8080/"
        },
        "id": "mK8EaYMWIH5e",
        "outputId": "d126edb4-561d-4758-9df0-7cdaacbc6664"
      },
      "outputs": [
        {
          "data": {
            "text/plain": [
              "0.4923"
            ]
          },
          "execution_count": 25,
          "metadata": {},
          "output_type": "execute_result"
        }
      ],
      "source": [
        "sum(np.random.exponential(scale=12, size=10000) <8)/10000"
      ]
    },
    {
      "cell_type": "code",
      "execution_count": 26,
      "metadata": {
        "id": "z425clhuKygZ"
      },
      "outputs": [],
      "source": [
        "x = np.random.exponential(scale=0.5,size=1000)"
      ]
    },
    {
      "cell_type": "code",
      "execution_count": 27,
      "metadata": {
        "colab": {
          "base_uri": "https://localhost:8080/",
          "height": 421
        },
        "id": "FdW83z3RKmXv",
        "outputId": "d66a7a36-da33-4c8d-8ab7-e0a4d67fa4cc"
      },
      "outputs": [
        {
          "data": {
            "text/plain": [
              "(array([1.65678863, 1.02477117, 0.6907048 , 0.37469607, 0.27086463,\n",
              "        0.19863406, 0.10834585, 0.06771616, 0.0451441 , 0.02708646,\n",
              "        0.02257205, 0.00902882, 0.00902882, 0.00902882]),\n",
              " array([3.40277444e-05, 2.21546895e-01, 4.43059762e-01, 6.64572629e-01,\n",
              "        8.86085495e-01, 1.10759836e+00, 1.32911123e+00, 1.55062410e+00,\n",
              "        1.77213696e+00, 1.99364983e+00, 2.21516270e+00, 2.43667556e+00,\n",
              "        2.65818843e+00, 2.87970130e+00, 3.10121416e+00]),\n",
              " <a list of 14 Patch objects>)"
            ]
          },
          "execution_count": 27,
          "metadata": {},
          "output_type": "execute_result"
        },
        {
          "data": {
            "image/png": "[encoded data removed]",
            "text/plain": [
              "<Figure size 432x288 with 1 Axes>"
            ]
          },
          "metadata": {},
          "output_type": "display_data"
        }
      ],
      "source": [
        "plt.hist(x, 14, density = True)"
      ]
    }
  ],
  "metadata": {
    "colab": {
      "provenance": []
    },
    "kernelspec": {
      "display_name": "Python 3",
      "language": "python",
      "name": "python3"
    },
    "language_info": {
      "codemirror_mode": {
        "name": "ipython",
        "version": 3
      },
      "file_extension": ".py",
      "mimetype": "text/x-python",
      "name": "python",
      "nbconvert_exporter": "python",
      "pygments_lexer": "ipython3",
      "version": "3.7.6"
    }
  },
  "nbformat": 4,
  "nbformat_minor": 0
}
